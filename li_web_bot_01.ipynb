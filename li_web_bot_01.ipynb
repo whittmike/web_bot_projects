{
 "cells": [
  {
   "cell_type": "markdown",
   "id": "40c8da39",
   "metadata": {},
   "source": [
    "# Web Bot Basics"
   ]
  },
  {
   "cell_type": "markdown",
   "id": "418049aa",
   "metadata": {},
   "source": [
    "### Description:\n",
    "- This code creates the framework for a web-bot that allows the input of a Linkedin article. The bot then navigates to that article, scrapes the relevant information and then submits a comment on that article. \n",
    "\n",
    "### Warning!\n",
    "-  This code is not a simple plug-and-play. A web bot has certain requirement, once we complete these requirements, we can move on to running the code.\n",
    "-  Im assuming that you already have installed python, here we are using python version 3.9.13\n",
    "\n",
    "### Steps:\n",
    "1. Install selenium (I prefer version 3.141.0) using pip\n",
    "    - pip3 install selenium==3.141.0\n",
    "2. You will need the gecko driver which you can get here:\n",
    "    - https://github.com/mozilla/geckodriver/releases/download/v0.28.0/geckodriver-v0.28.0-win64.zip\n",
    "3. Install Firefox\n",
    "    - https://www.mozilla.org/en-US/firefox/new\n",
    "4. Create a new directory\n",
    "    - place the gecko driver that you downloaded in that directory\n",
    "5. You will then need to create a custom firefox profile to be used by your web-bot\n",
    "    - This step is vital, if you are not using the same profile each time you run your script, it is like you are running in incognito mode each time. A consistent profile allows you to get past the bot-checks and dual authentication. \n",
    "    - Press (windows-key) + R, open 'firefox.exe -p' and follow steps.. place created profile in the directory you made in step 4.\n",
    "    - https://support.mozilla.org/en-US/kb/profile-manager-create-remove-switch-firefox-profiles\n",
    "    - You should then see a folder titled 'tsenysae.default-release' in the directory you created in step 4.\n",
    "\n",
    "If you followed those steps, you should be ready to go (minus the AI part, that requires an API key and adding funds to your account)\n",
    "    "
   ]
  },
  {
   "cell_type": "markdown",
   "id": "4c259c55",
   "metadata": {},
   "source": [
    "First we are going to import the required packages"
   ]
  },
  {
   "cell_type": "code",
   "execution_count": 1,
   "id": "50be80f1",
   "metadata": {},
   "outputs": [],
   "source": [
    "import os, time\n",
    "from selenium import webdriver\n",
    "from selenium.webdriver.firefox.options import Options\n",
    "import random as rd\n",
    "from dotenv import dotenv_values\n",
    "import openai"
   ]
  },
  {
   "cell_type": "markdown",
   "id": "de6991f7",
   "metadata": {},
   "source": [
    "This section of code is the one where we may need to make some changes if you are doing this yourself.\n",
    "\n",
    "Here is where we can also change the article link!"
   ]
  },
  {
   "cell_type": "code",
   "execution_count": 2,
   "id": "7f491ec3",
   "metadata": {},
   "outputs": [],
   "source": [
    "# --- set working directory (should be the directory you created in step 4)\n",
    "os.chdir('C:/Users/mwhittlesey/Desktop/SELENIUM_TEST')\n",
    "\n",
    "# --- select the article you want to comment on.\n",
    "article_url = 'https://www.linkedin.com/pulse/data-munging-tips-sql-reversing-listagg-michael-whittlesey-vszac'\n",
    "# article_url = 'https://www.linkedin.com/pulse/books-keep-you-warm-holiday-season-bill-gates-cmawc'\n",
    "\n",
    "# --- how do you want your comment to sound\n",
    "comment_tone = 'positive'\n",
    "\n",
    "# --- load dictionary with credentials\n",
    "cred_dict = dotenv_values('.env')\n",
    "\n",
    "# --- or set credentials manually\n",
    "# cred_dict = {\n",
    "#     'li_email': 'LinkedInEmail',\n",
    "#     'li_password': 'LinkdinPassword',\n",
    "#     'GPT_KEY': 'your open ai api key'\n",
    "# }"
   ]
  },
  {
   "cell_type": "markdown",
   "id": "111bb3a7",
   "metadata": {},
   "source": [
    "Next we need to setup the web driver. This is where we reference the mozilla profile we created and placed in the directory. "
   ]
  },
  {
   "cell_type": "code",
   "execution_count": 3,
   "id": "bd6795a0",
   "metadata": {},
   "outputs": [],
   "source": [
    "# --- load mozilla profile\n",
    "moz_prof = './tsenysae.default-release'\n",
    "fp = webdriver.FirefoxProfile(moz_prof)\n",
    "fp.set_preference(\"network.cookie.cookieBehavior\", 0)\n",
    "opts = Options()\n",
    "\n",
    "# --- set driver\n",
    "driver = webdriver.Firefox(options=opts, firefox_profile=fp, executable_path='./geckodriver.exe')"
   ]
  },
  {
   "cell_type": "markdown",
   "id": "1da52366",
   "metadata": {},
   "source": [
    "And now we are ready to start the driver. \n",
    "NOTE:\n",
    " - The first time you try to login, you will likely get bot-checked. So, just manually go through the steps of logging in and dual authentication. Luckily you only have to do this once at the very begining to setup your mozilla profile. \n",
    " \n",
    "A good rule for web-bots is to nest specific tasks (such as logging in) into a function. Then you can place that task in a 'try/except' statement. That way, if you don't need to login - because linkedin remembers you, the script doesnt immediately fail. "
   ]
  },
  {
   "cell_type": "code",
   "execution_count": 4,
   "id": "fc6386c4",
   "metadata": {},
   "outputs": [
    {
     "name": "stdout",
     "output_type": "stream",
     "text": [
      "no email needed\n",
      "no password needed\n",
      "no login button\n"
     ]
    }
   ],
   "source": [
    "# --- go to reports home page - its going to default to the login page\n",
    "driver.get(\"https://www.linkedin.com/feed/\")\n",
    "\n",
    "# --- let the bot rest\n",
    "time.sleep(rd.sample(list(range(1,5)), 1)[0])\n",
    "\n",
    "# --- function logs into linkedin using email and password\n",
    "def login_to_li(DriverInput):\n",
    "    # -- attempt to input email\n",
    "    try:\n",
    "        DriverInput.find_element_by_id(\"username\").send_keys(cred_dict['li_email'])\n",
    "    except:\n",
    "        print('no email needed')\n",
    "    # -- attempt to input email\n",
    "    try:\n",
    "        DriverInput.find_element_by_id(\"password\").send_keys(cred_dict['li_password'])\n",
    "    except:\n",
    "        print('no password needed')\n",
    "    # -- get login button\n",
    "    for i in DriverInput.find_elements_by_tag_name(\"button\"):\n",
    "        if i.text == 'Sign in':\n",
    "            sign_in_element = i\n",
    "    # -- try to click login button\n",
    "    try:\n",
    "        sign_in_element.click()\n",
    "    except:\n",
    "        print('no login button')\n",
    "\n",
    "# --- attempt login\n",
    "try:\n",
    "    login_to_li(driver)\n",
    "except:\n",
    "    print('couldnt login')\n",
    "\n",
    "# --- let the bot rest\n",
    "time.sleep(rd.sample(list(range(1,5)), 1)[0])"
   ]
  },
  {
   "cell_type": "markdown",
   "id": "651cb435",
   "metadata": {},
   "source": [
    "Next, we are going to navigate to the linkedin article we defined at the beginning and extract the paragraph text from the page."
   ]
  },
  {
   "cell_type": "code",
   "execution_count": 5,
   "id": "9b16a0ac",
   "metadata": {},
   "outputs": [
    {
     "name": "stdout",
     "output_type": "stream",
     "text": [
      "We've all aggregated data into a list using 'listagg'. But, have you ever needed to reverse that? I recently learned how in Redshift, and I'm sure I'm not the only one who's come across this problem. Here's how:\n",
      "\n",
      "Split the list into an array\n",
      "Place both the original table and the array in the 'from' statement.\n",
      "Select the array and convert the values from 'super' to 'varying character' (or whatever is appropriate)\n",
      "\n",
      "Now let's try something harder. I'm separating everything into individual steps for clarity purposes. Obviously, we don't need this many CTEs (common table expressions) to get the job done.\n",
      "Here, we are taking something we often see in web traffic. A user's entry URL. In this case, it's a link I clicked through on a 'fanatics' email ad. What we want to do is parse out all of the UTM parameters in one clean sweep. We can do this by taking the URL and splitting it into an array.\n",
      "As you can see we went from a mess:\n",
      "\n",
      "To something much more useable:\n",
      "\n",
      "Hope you found this useful, thanks for reading!\n"
     ]
    }
   ],
   "source": [
    "# --- navigate to article\n",
    "driver.get(article_url)\n",
    "\n",
    "# --- let the bot rest\n",
    "time.sleep(rd.sample(list(range(3,8)), 1)[0])\n",
    "\n",
    "# --- get article content\n",
    "def get_article_content(DriverInput):\n",
    "    # --- find all possible elements\n",
    "    possible_elements = DriverInput.find_elements_by_tag_name('p')\n",
    "    paragraph_elements = []\n",
    "    # --- loop through and locate based on class\n",
    "    for i in possible_elements:\n",
    "        if i.get_attribute('class') == 'ember-view reader-text-block__paragraph':\n",
    "            paragraph_elements.append(i)          \n",
    "    # --- join text \n",
    "    joined_text = '\\n'.join([i.text for i in paragraph_elements])\n",
    "    # --- return the text\n",
    "    print(joined_text)\n",
    "    return joined_text\n",
    "\n",
    "# --- grab the content\n",
    "try:\n",
    "    article_content = get_article_content(driver)\n",
    "except:\n",
    "    print('couldnt get article content')"
   ]
  },
  {
   "cell_type": "markdown",
   "id": "1b4b9538",
   "metadata": {},
   "source": [
    "Now we are going to find that text box for commenting. This took some time. There are times when the element you need does not have a specific 'id'. When that happens, you can do what I did here:\n",
    " - Get the html tag of the element we are looking for, in this case 'div'\n",
    " - Loop through all 'div' elements until you find the one with the specific class that you are looking for."
   ]
  },
  {
   "cell_type": "code",
   "execution_count": 6,
   "id": "f0a28631",
   "metadata": {},
   "outputs": [],
   "source": [
    "# --- let the bot rest\n",
    "time.sleep(rd.sample(list(range(3,8)), 1)[0])\n",
    "\n",
    "# --- function grabs comment element\n",
    "def get_comment_element(DriverInput):\n",
    "    # --- find comment box - took awhile\n",
    "    possible_elements = DriverInput.find_elements_by_tag_name('div')\n",
    "    # --- loop through and locate based on class\n",
    "    for i in possible_elements:\n",
    "        if i.get_attribute('class') == 'ql-editor ql-blank':\n",
    "            comment_element = i\n",
    "    # --- return comment element\n",
    "    return comment_element\n",
    "\n",
    "# --- now we have somewhere to write a comment\n",
    "try:\n",
    "    com_elm = get_comment_element(driver)\n",
    "except:\n",
    "    print('couldnt find comment element')"
   ]
  },
  {
   "cell_type": "markdown",
   "id": "c12605ad",
   "metadata": {},
   "source": [
    "Now we are going to ask GPT to write a comment within the context of the article with the tone we specified earlier. We are then going to extract the content of that response."
   ]
  },
  {
   "cell_type": "code",
   "execution_count": 7,
   "id": "d3a892fb",
   "metadata": {},
   "outputs": [
    {
     "name": "stdout",
     "output_type": "stream",
     "text": [
      "That's a really insightful and informative article! The step-by-step breakdown provided for reversing the 'listagg' operation in Redshift is very helpful for anyone who may encounter a similar challenge. The example of parsing out UTM parameters from a URL is a practical use case that many people working with web traffic data can relate to. The transformation from a messy URL to a clean and usable format is impressive. Thanks for sharing this valuable information!\n"
     ]
    }
   ],
   "source": [
    "# -- define api key\n",
    "openai.api_key = cred_dict['GPT_KEY']\n",
    " \n",
    " # -- api response product\n",
    "response_content = openai.ChatCompletion.create(\n",
    "    model=\"gpt-3.5-turbo\",\n",
    "    messages=[\n",
    "        {\n",
    "            \"role\": \"system\",\n",
    "            \"content\": f\"\"\"\n",
    "            You will be given an article\n",
    "            Return a {comment_tone} response about the article\n",
    "            \"\"\"\n",
    "        },\n",
    "        {\n",
    "            \"role\": \"user\",\n",
    "            \"content\": article_content\n",
    "        }\n",
    "    ],\n",
    "    temperature=0.5,\n",
    "    max_tokens=256,\n",
    "    top_p=1,\n",
    "    frequency_penalty=0,\n",
    "    presence_penalty=0\n",
    ")\n",
    "\n",
    "# -- get content product\n",
    "comment_response = response_content['choices'][0]['message']['content']\n",
    "print(comment_response)"
   ]
  },
  {
   "cell_type": "markdown",
   "id": "edf852df",
   "metadata": {},
   "source": [
    "And finally, we are going to send that response to the text box."
   ]
  },
  {
   "cell_type": "code",
   "execution_count": 8,
   "id": "39f93e0e",
   "metadata": {},
   "outputs": [],
   "source": [
    "# --- place comment in text box\n",
    "com_elm.send_keys(comment_response)"
   ]
  },
  {
   "cell_type": "markdown",
   "id": "cb8b3a25",
   "metadata": {},
   "source": [
    "We should see the text in the comment section. Now we just need to find that submit button."
   ]
  },
  {
   "cell_type": "code",
   "execution_count": 9,
   "id": "976905db",
   "metadata": {},
   "outputs": [],
   "source": [
    "# --- let the bot rest\n",
    "time.sleep(rd.sample(list(range(2,4)), 1)[0])\n",
    "\n",
    "# --- function grabs comment element\n",
    "def get_comment_submit_element(DriverInput):\n",
    "    # --- find comment box - took awhile\n",
    "    possible_elements = DriverInput.find_elements_by_tag_name('button')\n",
    "    # --- loop through and locate based on class\n",
    "    for i in possible_elements:\n",
    "        if i.get_attribute('class') == 'comments-comment-box__submit-button--cr artdeco-button artdeco-button--1 artdeco-button--primary ember-view':\n",
    "            comment_element = i\n",
    "    # --- return comment element\n",
    "    return comment_element\n",
    "\n",
    "# --- get comment submit button\n",
    "try:\n",
    "    comment_submit_button = get_comment_submit_element(driver)\n",
    "except:\n",
    "    print('couldnt find submit button')"
   ]
  },
  {
   "cell_type": "markdown",
   "id": "8422809d",
   "metadata": {},
   "source": [
    "Yay we found the button, now lets click it and we are home-free."
   ]
  },
  {
   "cell_type": "code",
   "execution_count": 10,
   "id": "d3ace350",
   "metadata": {},
   "outputs": [],
   "source": [
    "# --- click button\n",
    "comment_submit_button.click()"
   ]
  },
  {
   "cell_type": "markdown",
   "id": "1b991f1a",
   "metadata": {},
   "source": [
    "Finally, lets let the bot rest - make sure the button was clicked and close out our driver."
   ]
  },
  {
   "cell_type": "code",
   "execution_count": 11,
   "id": "3375034e",
   "metadata": {},
   "outputs": [],
   "source": [
    "# --- let the bot rest\n",
    "time.sleep(rd.sample(list(range(2,4)), 1)[0])\n",
    "driver.close()"
   ]
  },
  {
   "cell_type": "markdown",
   "id": "011ec6f3",
   "metadata": {},
   "source": [
    "### Thanks for reading!"
   ]
  }
 ],
 "metadata": {
  "kernelspec": {
   "display_name": "Python 3 (ipykernel)",
   "language": "python",
   "name": "python3"
  },
  "language_info": {
   "codemirror_mode": {
    "name": "ipython",
    "version": 3
   },
   "file_extension": ".py",
   "mimetype": "text/x-python",
   "name": "python",
   "nbconvert_exporter": "python",
   "pygments_lexer": "ipython3",
   "version": "3.9.13"
  }
 },
 "nbformat": 4,
 "nbformat_minor": 5
}
